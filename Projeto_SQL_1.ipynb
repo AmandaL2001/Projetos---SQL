{
  "metadata": {
    "kernelspec": {
      "language": "python",
      "display_name": "Python 3",
      "name": "python3"
    },
    "language_info": {
      "name": "python",
      "version": "3.10.13",
      "mimetype": "text/x-python",
      "codemirror_mode": {
        "name": "ipython",
        "version": 3
      },
      "pygments_lexer": "ipython3",
      "nbconvert_exporter": "python",
      "file_extension": ".py"
    },
    "kaggle": {
      "accelerator": "none",
      "dataSources": [],
      "dockerImageVersionId": 30732,
      "isInternetEnabled": false,
      "language": "python",
      "sourceType": "notebook",
      "isGpuEnabled": false
    },
    "colab": {
      "name": "Projeto SQL- 1",
      "provenance": []
    }
  },
  "nbformat_minor": 0,
  "nbformat": 4,
  "cells": [
    {
      "cell_type": "markdown",
      "source": [
        "# **Projeto SQL - Comparativo de gastos anuais entre homens e mulheres.**"
      ],
      "metadata": {
        "id": "X1mJPpDnWbJn"
      }
    },
    {
      "cell_type": "markdown",
      "source": [
        "O projeto abaixo tem como principal objetivo fazer um comparativo entre os gastos anuais dos nossos clientes e as possiveis causas para a discrepância nos valores entre homens e mulheres.\n",
        "\n",
        "Para isso fiz uma pequena analise do perfil dos nossos clientes com os seguintes critérios:\n",
        "\n",
        "* idade;\n",
        "* escolaridade;\n",
        "* estado civil;\n",
        "* salario anual;\n",
        "* dependentes;\n",
        "* valor das transações nos ultimos 12 meses.\n",
        "\n",
        "\n",
        "Utilizei o SQLite para executar as queries, iniciei com a alteração do nome da coluna:"
      ],
      "metadata": {
        "id": "ZQKFn-i0WbJr"
      }
    },
    {
      "cell_type": "code",
      "source": [
        " ALTER table credito RENAME COLUMN c1 to idade;\n",
        " ALTER table credito RENAME COLUMN c2 to sexo;\n",
        " ALTER table credito RENAME COLUMN c3 to dependentes;\n",
        " ALTER table credito RENAME COLUMN c4 to escolaridade;\n",
        " ALTER table credito RENAME COLUMN c5 to estado_civil;\n",
        " ALTER table credito RENAME COLUMN c6 to salario_anual;\n",
        " ALTER table credito RENAME COLUMN c7 to tipo_cartao;\n",
        " ALTER table credito RENAME COLUMN c8 to qtde_produtos;\n",
        " ALTER table credito RENAME COLUMN c9 to interacoes_12m;\n",
        " ALTER table credito RENAME COLUMN c10 to meses_inativo_12m;\n",
        " ALTER table credito RENAME COLUMN c11 to limite_credito;\n",
        " ALTER table credito RENAME COLUMN c12 to valor_transacoes_12m;\n",
        " ALTER table credito RENAME COLUMN c13 to qtd_transacoes_12m;"
      ],
      "metadata": {
        "id": "JlabCgcqWbJs"
      },
      "execution_count": null,
      "outputs": []
    },
    {
      "cell_type": "markdown",
      "source": [
        "Dei um SELECT* para verificar se as colunas foram renomeadas corretamente:"
      ],
      "metadata": {
        "id": "0eycN5JQWbJv"
      }
    },
    {
      "cell_type": "code",
      "source": [
        "SELECT*FROM credito;"
      ],
      "metadata": {
        "id": "309ZCroyWbJv"
      },
      "execution_count": null,
      "outputs": []
    },
    {
      "cell_type": "markdown",
      "source": [
        "Abaixo, fiz uma analise mais geral dos dados de cada coluna, calculando a média, valor mínimo e máximo das colunas onde temos números e um SELECT DISTINCT nas colunas que possuem strings e números:"
      ],
      "metadata": {
        "id": "l-VEGW4WWbJw"
      }
    },
    {
      "cell_type": "code",
      "source": [
        "SELECT DISTINCT idade FROM credito ORDER BY idade ASC;\n",
        "\n",
        "# O resultado desta querie se encontra no arquivo Query 1 - Projeto, que se encontra no mesmo material deste projeto.\n",
        "#Resumidamente, temos os valores 26 À 68, 70 e 73."
      ],
      "metadata": {
        "id": "sdFig4K4WbJw"
      },
      "execution_count": null,
      "outputs": []
    },
    {
      "cell_type": "code",
      "source": [
        "#Média idade:\n",
        "\n",
        "SELECT AVG (idade) FROM credito;\n",
        "\n",
        "#Resultado: 46 anos."
      ],
      "metadata": {
        "id": "8J7U8gr0WbJx"
      },
      "execution_count": null,
      "outputs": []
    },
    {
      "cell_type": "code",
      "source": [
        "SELECT DISTINCT escolaridade FROM credito;\n",
        "\n",
        "# O resultado desta querie se encontra no arquivo Query 2 - Projeto, que se encontra no mesmo material deste projeto.\n",
        "# Ensino médio, Mestrado, sem educação formal, na, graduacao e doutorado."
      ],
      "metadata": {
        "id": "YKwkNHLcWbJx"
      },
      "execution_count": null,
      "outputs": []
    },
    {
      "cell_type": "markdown",
      "source": [
        "Para descobrirmos a quantidade de clientes referente a escolaridade, executei os comandos abaixo:"
      ],
      "metadata": {
        "id": "G7x0BhHNWbJy"
      }
    },
    {
      "cell_type": "code",
      "source": [
        "SELECT COUNT (escolaridade) FROM credito WHERE escolaridade = 'ensino medio';\n",
        "\n",
        "#545"
      ],
      "metadata": {
        "id": "AuF6_cdQWbJy"
      },
      "execution_count": null,
      "outputs": []
    },
    {
      "cell_type": "code",
      "source": [
        "SELECT COUNT (escolaridade) FROM credito WHERE escolaridade = 'mestrado';\n",
        "\n",
        "#810\n",
        "\n",
        "SELECT COUNT (escolaridade) FROM credito WHERE escolaridade = 'mestrado' AND sexo = 'F';\n",
        "\n",
        "#323 mulheres com mestrado\n",
        "\n",
        "SELECT COUNT (escolaridade) FROM credito WHERE escolaridade = 'mestrado' AND sexo = 'M';\n",
        "\n",
        "#487 homens com mestrado"
      ],
      "metadata": {
        "id": "09dY6JAQWbJy"
      },
      "execution_count": null,
      "outputs": []
    },
    {
      "cell_type": "markdown",
      "source": [
        "![Escolaridade - Mestrado.png](attachment:58392484-0b79-49a9-a135-2895e0d54712.png)"
      ],
      "metadata": {
        "id": "l-j-Xr5rWbJz"
      }
    },
    {
      "cell_type": "code",
      "source": [
        "SELECT COUNT (escolaridade) FROM credito WHERE escolaridade = 'sem educacao formal';\n",
        "\n",
        "#367\n",
        "\n",
        "SELECT COUNT(escolaridade) FROM credito WHERE escolaridade = 'sem educacao formal' AND sexo = 'M';\n",
        "\n",
        "#210 homens nao possuem uma educação formal."
      ],
      "metadata": {
        "id": "5sK4uDIYWbJz"
      },
      "execution_count": null,
      "outputs": []
    },
    {
      "cell_type": "markdown",
      "source": [
        "![Sem educação formal.png](attachment:c6b4dc17-e9d8-41dc-9f0d-5e7f5b27266d.png)"
      ],
      "metadata": {
        "id": "DGc6mXWcWbJz"
      }
    },
    {
      "cell_type": "code",
      "source": [
        "SELECT COUNT (escolaridade) FROM credito WHERE escolaridade = 'na';\n",
        "\n",
        "#346"
      ],
      "metadata": {
        "id": "rVeO1Y5vWbJz"
      },
      "execution_count": null,
      "outputs": []
    },
    {
      "cell_type": "code",
      "source": [
        "SELECT COUNT (escolaridade) FROM credito WHERE escolaridade = 'graduacao';\n",
        "\n",
        "#261"
      ],
      "metadata": {
        "id": "OKzUfJNwWbJz"
      },
      "execution_count": null,
      "outputs": []
    },
    {
      "cell_type": "code",
      "source": [
        "SELECT COUNT (escolaridade) FROM credito WHERE escolaridade = 'doutorado';\n",
        "\n",
        "#235\n",
        "\n",
        "SELECT COUNT (escolaridade) FROM credito WHERE escolaridade = 'doutorado' AND sexo = 'F';\n",
        "\n",
        "#98 mulheres com doutorado\n",
        "\n",
        "SELECT COUNT (escolaridade) FROM credito WHERE escolaridade = 'doutorado' AND sexo = 'M';\n",
        "\n",
        "#137 homens com doutorado"
      ],
      "metadata": {
        "id": "f5LDRt9UWbJ0"
      },
      "execution_count": null,
      "outputs": []
    },
    {
      "cell_type": "markdown",
      "source": [
        "![Escolaridade - Doutorado.png](attachment:952986b9-694c-4af5-b27a-cfd49eff775a.png)"
      ],
      "metadata": {
        "id": "sNYgkHFjWbJ0"
      }
    },
    {
      "cell_type": "markdown",
      "source": [
        "Podemos concluir que possuimos uma maior quantidade de clientes com mestrado e uma menor quantidade de clientes com doutorado"
      ],
      "metadata": {
        "id": "bYa_a9NqWbJ0"
      }
    },
    {
      "cell_type": "code",
      "source": [
        "SELECT DISTINCT estado_civil FROM credito;\n",
        "\n",
        "# O resultado desta querie se encontra no arquivo Query 3 - Projeto, que se encontra no mesmo material deste projeto.\n",
        "#Casado, solteiro, na, divorciado."
      ],
      "metadata": {
        "id": "8MBhbttiWbJ0"
      },
      "execution_count": null,
      "outputs": []
    },
    {
      "cell_type": "markdown",
      "source": [
        "Para descobrirmos a quantidade de clientes referente ao estado civíl, executei os comandos abaixo:"
      ],
      "metadata": {
        "id": "xrk_DekgWbJ0"
      }
    },
    {
      "cell_type": "code",
      "source": [
        "SELECT COUNT (estado_civil) FROM credito WHERE estado_civil = 'casado';\n",
        "\n",
        "#1521"
      ],
      "metadata": {
        "id": "ECSgdzJ0WbJ1"
      },
      "execution_count": null,
      "outputs": []
    },
    {
      "cell_type": "code",
      "source": [
        "SELECT COUNT (estado_civil) FROM credito WHERE estado_civil = 'solteiro';\n",
        "\n",
        "#766"
      ],
      "metadata": {
        "id": "jRWVESg6WbJ1"
      },
      "execution_count": null,
      "outputs": []
    },
    {
      "cell_type": "code",
      "source": [
        "SELECT COUNT (estado_civil) FROM credito WHERE estado_civil = 'na';\n",
        "\n",
        "#116"
      ],
      "metadata": {
        "id": "l_exECpmWbJ1"
      },
      "execution_count": null,
      "outputs": []
    },
    {
      "cell_type": "code",
      "source": [
        "SELECT COUNT (estado_civil) FROM credito WHERE estado_civil = 'divorciado';\n",
        "\n",
        "#161"
      ],
      "metadata": {
        "id": "7OPjv9b5WbJ1"
      },
      "execution_count": null,
      "outputs": []
    },
    {
      "cell_type": "markdown",
      "source": [
        "Podemos concluir que a maioria dos nossos clientes são casados."
      ],
      "metadata": {
        "id": "gAESZmZkWbJ1"
      }
    },
    {
      "cell_type": "code",
      "source": [
        "SELECT DISTINCT salario_anual FROM credito;\n",
        "\n",
        "# O resultado desta querie se encontra no arquivo Query 4 - Projeto, que se encontra no mesmo material deste projeto.\n",
        "# Na, menos de $40K, $40K à $60K, $60K à $80K, $80K à $120K, mais de $120K."
      ],
      "metadata": {
        "id": "KAZspPa6WbJ1"
      },
      "execution_count": null,
      "outputs": []
    },
    {
      "cell_type": "markdown",
      "source": [
        "Para descobrirmos a quantidade de clientes referente a cada tipo de salario, executei os comandos abaixo:"
      ],
      "metadata": {
        "id": "XdlTXtXiWbJ1"
      }
    },
    {
      "cell_type": "code",
      "source": [
        "SELECT COUNT (salario_anual) FROM credito WHERE salario_anual = 'menos que $40K';\n",
        "\n",
        "#701\n",
        "\n",
        "SELECT COUNT (salario_anual) FROM credito WHERE salario_anual = 'menos que $40K' AND sexo = 'F';\n",
        "\n",
        "#597 mulheres ganham abaixo de 40K\n",
        "\n",
        "SELECT COUNT (salario_anual) FROM credito WHERE salario_anual = 'menos que $40K' AND sexo = 'M';\n",
        "\n",
        "#104 homens ganham abaixo de 40K\n",
        "\n",
        "#É perceptivel a discrepancia nos valores, a maioria dos clientes que ganham menos de $40K são mulheres."
      ],
      "metadata": {
        "id": "paMZS7pHWbJ1"
      },
      "execution_count": null,
      "outputs": []
    },
    {
      "cell_type": "markdown",
      "source": [
        "![_                                Salario Anual _40K.png](attachment:bb113a4d-d4f8-4163-af20-45366f887e26.png)\n"
      ],
      "metadata": {
        "id": "bwdlaRM4WbJ2"
      }
    },
    {
      "cell_type": "code",
      "source": [
        "SELECT COUNT (salario_anual) FROM credito WHERE salario_anual = '$40K - $60K';\n",
        "\n",
        "#467"
      ],
      "metadata": {
        "id": "3QYsCstCWbJ2"
      },
      "execution_count": null,
      "outputs": []
    },
    {
      "cell_type": "code",
      "source": [
        "SELECT COUNT (salario_anual) FROM credito WHERE salario_anual = '$60K - $80K';\n",
        "\n",
        "#451"
      ],
      "metadata": {
        "id": "wvlgX6miWbJ2"
      },
      "execution_count": null,
      "outputs": []
    },
    {
      "cell_type": "code",
      "source": [
        "SELECT COUNT (salario_anual) FROM credito WHERE salario_anual = '$80K - $120K';\n",
        "\n",
        "#488"
      ],
      "metadata": {
        "id": "BBZBs-KgWbJ2"
      },
      "execution_count": null,
      "outputs": []
    },
    {
      "cell_type": "code",
      "source": [
        "SELECT COUNT (salario_anual) FROM credito WHERE salario_anual = '$120K +';\n",
        "\n",
        "#222\n",
        "\n",
        "SELECT COUNT (salario_anual) FROM credito WHERE salario_anual = '$120K +' AND sexo = 'M'\n",
        "\n",
        "#222\n",
        "\n",
        "#Não há mulheres ganhando acima de $120K anualmente."
      ],
      "metadata": {
        "id": "GvfL8sJsWbJ2"
      },
      "execution_count": null,
      "outputs": []
    },
    {
      "cell_type": "code",
      "source": [
        "SELECT COUNT (salario_anual) FROM credito WHERE salario_anual = 'na';\n",
        "\n",
        "#235"
      ],
      "metadata": {
        "id": "0LLZmlToWbJ3"
      },
      "execution_count": null,
      "outputs": []
    },
    {
      "cell_type": "markdown",
      "source": [
        "Executei o comando abaixo para verificar a quantidade de dependentes:"
      ],
      "metadata": {
        "id": "EamnJcn0WbJ3"
      }
    },
    {
      "cell_type": "code",
      "source": [
        "SELECT DISTINCT dependentes FROM credito ORDER BY dependentes ASC;\n",
        "\n",
        "#0,1,2,3,4,5"
      ],
      "metadata": {
        "id": "NKQO7eS_WbJ3"
      },
      "execution_count": null,
      "outputs": []
    },
    {
      "cell_type": "code",
      "source": [
        "SELECT COUNT (dependentes) FROM credito WHERE dependentes = '0'\n",
        "\n",
        "#337"
      ],
      "metadata": {
        "id": "t0YqFzNSWbJ3"
      },
      "execution_count": null,
      "outputs": []
    },
    {
      "cell_type": "code",
      "source": [
        "SELECT COUNT (dependentes) FROM credito WHERE dependentes = '1'\n",
        "\n",
        "#545"
      ],
      "metadata": {
        "id": "Dp8kMG8IWbJ-"
      },
      "execution_count": null,
      "outputs": []
    },
    {
      "cell_type": "code",
      "source": [
        "SELECT COUNT (dependentes) FROM credito WHERE dependentes = '2'\n",
        "\n",
        "#680"
      ],
      "metadata": {
        "id": "11k_01ziWbJ_"
      },
      "execution_count": null,
      "outputs": []
    },
    {
      "cell_type": "code",
      "source": [
        "SELECT COUNT (dependentes) FROM credito WHERE dependentes = '3'\n",
        "\n",
        "#612"
      ],
      "metadata": {
        "id": "7u6m98ISWbJ_"
      },
      "execution_count": null,
      "outputs": []
    },
    {
      "cell_type": "code",
      "source": [
        "SELECT COUNT (dependentes) FROM credito WHERE dependentes = '4'\n",
        "\n",
        "#324"
      ],
      "metadata": {
        "id": "zL5yNNOlWbJ_"
      },
      "execution_count": null,
      "outputs": []
    },
    {
      "cell_type": "code",
      "source": [
        "SELECT COUNT (dependentes) FROM credito WHERE dependentes = '5'\n",
        "\n",
        "#66"
      ],
      "metadata": {
        "id": "PdszZDi3WbKA"
      },
      "execution_count": null,
      "outputs": []
    },
    {
      "cell_type": "code",
      "source": [
        "SELECT SUM (dependentes) FROM credito WHERE sexo = 'F';\n",
        "\n",
        "#2069\n",
        "\n",
        "SELECT SUM (dependentes) FROM credito WHERE sexo = 'M';\n",
        "\n",
        "#3298"
      ],
      "metadata": {
        "id": "uEN0KmP4WbKA"
      },
      "execution_count": null,
      "outputs": []
    },
    {
      "cell_type": "markdown",
      "source": [
        "![Dependentes.png](attachment:99be54c7-8298-4615-bc71-22f0b8f9eea1.png)"
      ],
      "metadata": {
        "id": "NN4Y759HWbKC"
      }
    },
    {
      "cell_type": "markdown",
      "source": [
        "Conclui-se que os homens possuem mais dependentes que as mulheres."
      ],
      "metadata": {
        "id": "bI2bJwWNWbKD"
      }
    },
    {
      "cell_type": "code",
      "source": [
        "SELECT SUM (dependentes) FROM credito WHERE sexo = 'F' and dependentes >= 3;\n",
        "\n",
        "#1339\n",
        "\n",
        "SELECT SUM (dependentes) FROM credito WHERE sexo = 'M' and dependentes >= 3;\n",
        "\n",
        "#2123"
      ],
      "metadata": {
        "id": "85vygkRHWbKD"
      },
      "execution_count": null,
      "outputs": []
    },
    {
      "cell_type": "markdown",
      "source": [
        "![Dependentes _= 3.png](attachment:46f65593-6d6f-4220-8ed5-16b34afbc522.png)"
      ],
      "metadata": {
        "id": "wu_lAtLSWbKE"
      }
    },
    {
      "cell_type": "markdown",
      "source": [
        "A maioria dos clientes possui 3 dependentes, sendo muito provavelmente conjuge e filhos. Neste cenário os homens também lideram."
      ],
      "metadata": {
        "id": "GPXo3NcxWbKE"
      }
    },
    {
      "cell_type": "markdown",
      "source": [
        "Criei uma nova tabela com os valores das transações em ordem crescente, renomeei a coluna e executei as queries abaixo para identificar a mediana, visto que há uma discrepância entre o valor minimo e maximo no valor das transações dos ultimos 12 meses, conforme pode ser observado abaixo:"
      ],
      "metadata": {
        "id": "woiApThwWbKE"
      }
    },
    {
      "cell_type": "code",
      "source": [
        "SELECT MIN (valor_transacoes_12m) FROM credito;\n",
        "\n",
        "#$510,16"
      ],
      "metadata": {
        "id": "DX2EvMqgWbKE"
      },
      "execution_count": null,
      "outputs": []
    },
    {
      "cell_type": "code",
      "source": [
        "SELECT MAX (valor_transacoes_12m) FROM credito;\n",
        "\n",
        "#$4776,58"
      ],
      "metadata": {
        "id": "u_vqDBgpWbKE"
      },
      "execution_count": null,
      "outputs": []
    },
    {
      "cell_type": "code",
      "source": [
        "SELECT AVG (valor_transacoes_12m) FROM credito;\n",
        "\n",
        "#$1820,32"
      ],
      "metadata": {
        "id": "lVfJDppzWbKE"
      },
      "execution_count": null,
      "outputs": []
    },
    {
      "cell_type": "code",
      "source": [
        "SELECT SUM (valor_transacoes_12m) FROM credito WHERE sexo = 'F';\n",
        "\n",
        "#$1.841.462,13\n",
        "\n",
        "SELECT SUM (valor_transacoes_12m) FROM credito WHERE sexo = 'M';\n",
        "\n",
        "#$2.825.853,99"
      ],
      "metadata": {
        "id": "cfGO6QmoWbKF"
      },
      "execution_count": null,
      "outputs": []
    },
    {
      "cell_type": "code",
      "source": [
        "SELECT valor_transacoes_12m FROM credito ORDER BY valor_transacoes_12m ASC;\n",
        "\n",
        "#Tabela criada e extraida em formato .csv, incluida também no material referente a este projeto."
      ],
      "metadata": {
        "id": "aNqJNmwWWbKF"
      },
      "execution_count": null,
      "outputs": []
    },
    {
      "cell_type": "code",
      "source": [
        "ALTER TABLE VALOR_TRANSACOES_12M RENAME COLUMN c1 TO VALORES;"
      ],
      "metadata": {
        "id": "Hj0_Wgm1WbKF"
      },
      "execution_count": null,
      "outputs": []
    },
    {
      "cell_type": "markdown",
      "source": [
        "Os primeiros valores em #azul correspondem a quantidade de linhas equivalente a porcentagem calculada, considerando o total de linhas na coluna valores."
      ],
      "metadata": {
        "id": "EQ99Cf1MWbKF"
      }
    },
    {
      "cell_type": "code",
      "source": [
        "SELECT count (valores),\n",
        "0.25 * COUNT(valores) AS vinte_e_cinco_porcento FROM VALOR_TRANSACOES_12M;\n",
        "\n",
        "#641\n",
        "\n",
        "#1352.81 (Q1)"
      ],
      "metadata": {
        "id": "d0S4wxP0WbKF"
      },
      "execution_count": null,
      "outputs": []
    },
    {
      "cell_type": "code",
      "source": [
        "SELECT count (valores),\n",
        "0.50 * COUNT(valores) AS cinquenta_porcento FROM VALOR_TRANSACOES_12M;\n",
        "\n",
        "#1282\n",
        "\n",
        "#1665.91 (Q2-mediana)"
      ],
      "metadata": {
        "id": "3u5F4wb7WbKG"
      },
      "execution_count": null,
      "outputs": []
    },
    {
      "cell_type": "code",
      "source": [
        "SELECT count (valores),\n",
        "0.75 * COUNT(valores) AS setenta_e_cinco_porcento FROM VALOR_TRANSACOES_12M;\n",
        "\n",
        "#1923\n",
        "\n",
        "#2156.6 (Q3)"
      ],
      "metadata": {
        "id": "chYI03k0WbKG"
      },
      "execution_count": null,
      "outputs": []
    },
    {
      "cell_type": "markdown",
      "source": [
        "Para confirmar a quantidade de linhas, vamos executar o abaixo:"
      ],
      "metadata": {
        "id": "omnfAEWBWbKG"
      }
    },
    {
      "cell_type": "code",
      "source": [
        "select COUNT (valores) FROM VALOR_TRANSACOES_12M;\n",
        "\n",
        "#2564\n",
        "\n",
        "#Considerando que 50% deste valor é 1282, podemos assegurar de que as queries foram feitas e executadas corretamente."
      ],
      "metadata": {
        "id": "ADsPyQBdWbKG"
      },
      "execution_count": null,
      "outputs": []
    },
    {
      "cell_type": "markdown",
      "source": [
        "Para calcular os quartis, executei os comandos abaixo, incluindo em frente ao limit os primeiros valores em #azul:"
      ],
      "metadata": {
        "id": "j1h-4XyAWbKG"
      }
    },
    {
      "cell_type": "code",
      "source": [
        "SELECT valores FROM VALOR_TRANSACOES_12M LIMIT 641;\n",
        "SELECT valores FROM VALOR_TRANSACOES_12M LIMIT 1282;\n",
        "SELECT valores FROM VALOR_TRANSACOES_12M LIMIT 1923;"
      ],
      "metadata": {
        "id": "VRt-0DuMWbKH"
      },
      "execution_count": null,
      "outputs": []
    },
    {
      "cell_type": "markdown",
      "source": [
        "Podemos concluir que não há tanta discrepância nos valores, comparando o valor da média ( 1820,32) e mediana( 1665,91)."
      ],
      "metadata": {
        "id": "u2FeEva1WbKH"
      }
    },
    {
      "cell_type": "markdown",
      "source": [
        "# Considerações finais:"
      ],
      "metadata": {
        "id": "fj0Q9QvVWbKH"
      }
    },
    {
      "cell_type": "markdown",
      "source": [
        "* É perceptivel que o valor das transações feitas pelos clientes do sexo masculino foram praticamente 1 milhão a mais em comparação ao valor das transações feitas pelas clientes do sexo feminino;\n",
        "\n",
        "* Podemos concluir que tal diferença está relacionada diretamente ao ganho anual de cada um, onde os homens possuem salarios maiores que as mulheres (todos os clientes com salario superior a $120K são homens). A maioria do publico que ganha menos de 40K/ano são mulheres;\n",
        "\n",
        "* Tal diferença também pode estar relacionada a quantidade de dependentes, onde neste cenário possui uma maior quantidade de clientes homens;\n",
        "\n",
        "* A discrepância dos salários não está relacionada a escolaridade, pois não há uma diferença significativa entre homens e mulheres;\n",
        "\n",
        "* Fato interessante: A quantidade de homens sem educação formal é maior em comparação as mulheres."
      ],
      "metadata": {
        "id": "_3NQqA8VWbKH"
      }
    }
  ]
}